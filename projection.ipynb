{
 "cells": [
  {
   "cell_type": "code",
   "execution_count": null,
   "id": "4e303a7a",
   "metadata": {},
   "outputs": [],
   "source": [
    "import os\n",
    "import pandas as pd\n",
    "import numpy as np\n",
    "from pybaseball import batting_stats"
   ]
  },
  {
   "cell_type": "code",
   "execution_count": null,
   "id": "2d605821",
   "metadata": {},
   "outputs": [],
   "source": [
    "START = 2003\n",
    "END = 2023"
   ]
  },
  {
   "cell_type": "code",
   "execution_count": null,
   "id": "53b7d3d3",
   "metadata": {},
   "outputs": [],
   "source": [
    "batting = batting_stats(START, END, qual = 200)"
   ]
  },
  {
   "cell_type": "code",
   "execution_count": null,
   "id": "335354d1",
   "metadata": {},
   "outputs": [],
   "source": [
    "batting.to_csv(\"batting.csv\")"
   ]
  },
  {
   "cell_type": "code",
   "execution_count": null,
   "id": "535dd126",
   "metadata": {},
   "outputs": [],
   "source": [
    "batting = batting.groupby(\"IDFG\", group_keys = False).filter(lambda x: x.shape[0] > 1)"
   ]
  },
  {
   "cell_type": "code",
   "execution_count": null,
   "id": "e168fa99",
   "metadata": {},
   "outputs": [],
   "source": []
  },
  {
   "cell_type": "code",
   "execution_count": null,
   "id": "3ce3c7d9",
   "metadata": {},
   "outputs": [],
   "source": []
  }
 ],
 "metadata": {
  "kernelspec": {
   "display_name": "Python 3 (ipykernel)",
   "language": "python",
   "name": "python3"
  },
  "language_info": {
   "codemirror_mode": {
    "name": "ipython",
    "version": 3
   },
   "file_extension": ".py",
   "mimetype": "text/x-python",
   "name": "python",
   "nbconvert_exporter": "python",
   "pygments_lexer": "ipython3",
   "version": "3.11.5"
  }
 },
 "nbformat": 4,
 "nbformat_minor": 5
}
